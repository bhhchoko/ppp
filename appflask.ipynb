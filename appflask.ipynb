{
 "cells": [
  {
   "cell_type": "code",
   "execution_count": 7,
   "id": "2f19b4da",
   "metadata": {},
   "outputs": [],
   "source": [
    "import json\n",
    "import requests"
   ]
  },
  {
   "cell_type": "code",
   "execution_count": 8,
   "id": "e30664fa",
   "metadata": {},
   "outputs": [],
   "source": [
    "url = 'http://127.0.0.1:5000'"
   ]
  },
  {
   "cell_type": "code",
   "execution_count": 9,
   "id": "20735c1f",
   "metadata": {},
   "outputs": [],
   "source": [
    "data = {\n",
    "        'person_age':25, 'person_income':10000, 'person_emp_length':5, 'loan_amnt':3000,\n",
    "       'loan_int_rate':11, 'loan_percent_income':0.4,\n",
    "       'cb_person_cred_hist_length':2, 'person_home_ownership_MORTGAGE':0,\n",
    "       'person_home_ownership_OTHER':0, 'person_home_ownership_OWN':1,\n",
    "       'person_home_ownership_RENT':0, 'loan_intent_DEBTCONSOLIDATION':0,\n",
    "       'loan_intent_EDUCATION':0, 'loan_intent_HOMEIMPROVEMENT':1,\n",
    "       'loan_intent_MEDICAL':0, 'loan_intent_PERSONAL':0, 'loan_intent_VENTURE':0,\n",
    "       'loan_grade_A':0, 'loan_grade_B':0, 'loan_grade_C':0, 'loan_grade_D':0,\n",
    "       'loan_grade_E':0, 'loan_grade_F':1, 'loan_grade_G':0,\n",
    "       'cb_person_default_on_file_N':0, 'cb_person_default_on_file_Y':1\n",
    "       }\n",
    "data = json.dumps(data)"
   ]
  },
  {
   "cell_type": "code",
   "execution_count": 10,
   "id": "e057ad66",
   "metadata": {},
   "outputs": [],
   "source": [
    "send_request = requests.post(url, data)"
   ]
  },
  {
   "cell_type": "code",
   "execution_count": 11,
   "id": "393644dc",
   "metadata": {},
   "outputs": [
    {
     "name": "stdout",
     "output_type": "stream",
     "text": [
      "<Response [200]>\n"
     ]
    }
   ],
   "source": [
    "print(send_request)"
   ]
  },
  {
   "cell_type": "code",
   "execution_count": 12,
   "id": "265b7df3",
   "metadata": {},
   "outputs": [
    {
     "name": "stdout",
     "output_type": "stream",
     "text": [
      "{'results': {'results': 1}}\n"
     ]
    }
   ],
   "source": [
    "print(send_request.json())"
   ]
  },
  {
   "cell_type": "code",
   "execution_count": null,
   "id": "b6c0d481",
   "metadata": {},
   "outputs": [],
   "source": []
  }
 ],
 "metadata": {
  "kernelspec": {
   "display_name": "Python 3",
   "language": "python",
   "name": "python3"
  },
  "language_info": {
   "codemirror_mode": {
    "name": "ipython",
    "version": 3
   },
   "file_extension": ".py",
   "mimetype": "text/x-python",
   "name": "python",
   "nbconvert_exporter": "python",
   "pygments_lexer": "ipython3",
   "version": "3.8.8"
  }
 },
 "nbformat": 4,
 "nbformat_minor": 5
}
